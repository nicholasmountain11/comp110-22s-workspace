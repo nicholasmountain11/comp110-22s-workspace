{
 "cells": [
  {
   "cell_type": "markdown",
   "metadata": {},
   "source": [
    "# Processing Shakespear\n",
    "\n",
    "Counting all the letters in Shakespear's works.\n",
    "\n",
    "First step is to read each line of the text file into a list of strings."
   ]
  },
  {
   "cell_type": "code",
   "execution_count": 14,
   "metadata": {},
   "outputs": [
    {
     "name": "stdout",
     "output_type": "stream",
     "text": [
      "124194\n"
     ]
    }
   ],
   "source": [
    "from io import TextIOWrapper\n",
    "\n",
    "def read_lines(filename: str) -> list[str]:\n",
    "    \"\"\"Read a text file into a list of strings for each line.\"\"\"\n",
    "    lines: list[str] = []\n",
    "    file_handle: TextIOWrapper = open(filename, \"r\")\n",
    "    for line in file_handle:\n",
    "        line = line.strip()\n",
    "        line = line.lower()\n",
    "        lines.append(line)\n",
    "    return lines\n",
    "\n",
    "shakespears_lines: list[str] = read_lines(\"./shakespear.txt\")\n",
    "print(len(shakespears_lines))"
   ]
  },
  {
   "cell_type": "code",
   "execution_count": 15,
   "metadata": {},
   "outputs": [
    {
     "name": "stdout",
     "output_type": "stream",
     "text": [
      "['1609', '', 'the sonnets', '', 'by william shakespeare']\n"
     ]
    }
   ],
   "source": [
    "# Example of \"Slice Notation\"\n",
    "\n",
    "print(shakespears_lines[0:5])"
   ]
  },
  {
   "cell_type": "markdown",
   "metadata": {},
   "source": [
    "The next step of our analysis is to count all of the letters in Shakespear's complete body of work."
   ]
  },
  {
   "cell_type": "code",
   "execution_count": 16,
   "metadata": {},
   "outputs": [
    {
     "name": "stdout",
     "output_type": "stream",
     "text": [
      "{'t': 328987, 'h': 236584, 'e': 446147, 's': 248518, 'o': 313890, 'n': 242751, 'b': 61788, 'y': 94173, 'w': 89286, 'i': 253329, 'l': 169657, 'a': 288594, 'm': 111219, 'k': 35362, 'p': 58249, 'r': 237250, 'f': 80333, 'c': 87839, 'u': 128697, 'd': 149127, 'g': 68054, 'v': 37497, 'z': 1626, 'x': 5217, 'q': 3577, 'j': 4752}\n"
     ]
    }
   ],
   "source": [
    "# Write a function named 'tally' :\n",
    "# Given a reference to a dictionary and a key:\n",
    "# Increase the value stored at the key by 1 if key exists\n",
    "# Otherwise set key's initial value to zero\n",
    "# Function that returns None\n",
    "\n",
    "def tally(letter_count: dict[str, int], letter: str) -> None:\n",
    "    \"\"\"Mutate counts by incrementing value stored at key by 1.\"\"\"\n",
    "    if letter in letter_count:\n",
    "        letter_count[letter] += 1\n",
    "    else:\n",
    "        letter_count[letter] = 1\n",
    "\n",
    "\n",
    "def count_letters(lines: list[str]) -> dict[str, int]:\n",
    "    \"\"\"Count the frequency of all letters in a list of strings.\"\"\"\n",
    "    counts: dict[str, int] = {}\n",
    "    # Try looping through each line in 'lines'\n",
    "    # Then loop through each char in the line\n",
    "    # Tally that char in the counts dictionary\n",
    "    for line in lines:\n",
    "        for char in line:\n",
    "            if char.isalpha():\n",
    "                tally(counts, char)\n",
    "    return counts\n",
    "\n",
    "shakespears_counts: dict[str, int] = count_letters(shakespears_lines)\n",
    "print(shakespears_counts)"
   ]
  },
  {
   "cell_type": "markdown",
   "metadata": {},
   "source": [
    "Visualize with a bar chart this data about character frequencies"
   ]
  },
  {
   "cell_type": "code",
   "execution_count": 18,
   "metadata": {},
   "outputs": [
    {
     "data": {
      "text/plain": [
       "<BarContainer object of 26 artists>"
      ]
     },
     "execution_count": 18,
     "metadata": {},
     "output_type": "execute_result"
    },
    {
     "data": {
      "image/png": "[encoded data removed]",
      "text/plain": [
       "<Figure size 432x288 with 1 Axes>"
      ]
     },
     "metadata": {
      "needs_background": "light"
     },
     "output_type": "display_data"
    }
   ],
   "source": [
    "from matplotlib import pyplot\n",
    "\n",
    "shakespears_counts = dict(sorted(shakespears_counts.items()))\n",
    "\n",
    "pyplot.title(\"Frequencies of letters in Shakespear\")\n",
    "pyplot.xlabel(\"Letters\")\n",
    "pyplot.ylabel(\"Counts\")\n",
    "labels: list[str] = list(shakespears_counts.keys())\n",
    "values: list[int] = list(shakespears_counts.values())\n",
    "pyplot.bar(labels, values)"
   ]
  },
  {
   "cell_type": "code",
   "execution_count": 22,
   "metadata": {},
   "outputs": [
    {
     "data": {
      "text/plain": [
       "{'spring': 110, 'break': 100000000}"
      ]
     },
     "execution_count": 22,
     "metadata": {},
     "output_type": "execute_result"
    }
   ],
   "source": [
    "example_tuples: list[tuple[str, int]] =[\n",
    "    ('spring', 110),\n",
    "    ('break', 100000000)\n",
    "]\n",
    "\n",
    "dict_from_tuples: dict[str, int] = dict(example_tuples)\n",
    "dict_from_tuples"
   ]
  }
 ],
 "metadata": {
  "interpreter": {
   "hash": "aee8b7b246df8f9039afb4144a1f6fd8d2ca17a180786b69acc140d282b71a49"
  },
  "kernelspec": {
   "display_name": "Python 3.10.1 64-bit",
   "language": "python",
   "name": "python3"
  },
  "language_info": {
   "codemirror_mode": {
    "name": "ipython",
    "version": 3
   },
   "file_extension": ".py",
   "mimetype": "text/x-python",
   "name": "python",
   "nbconvert_exporter": "python",
   "pygments_lexer": "ipython3",
   "version": "3.10.1"
  },
  "orig_nbformat": 4
 },
 "nbformat": 4,
 "nbformat_minor": 2
}
